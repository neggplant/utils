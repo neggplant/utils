{
 "cells": [
  {
   "cell_type": "code",
   "execution_count": 1,
   "metadata": {},
   "outputs": [],
   "source": [
    "import time\n",
    "def timer(func):\n",
    "    def wrapper(*args,**kwds):\n",
    "        t0 = time.time()\n",
    "        func(*args,**kwds)\n",
    "        t1 = time.time()\n",
    "        # 获取被装饰函数的名字\n",
    "        func_name =str(func).split(\" \")[1]\n",
    "        print(func_name + '耗时{:.2f}'.format(t1-t0))\n",
    "    return wrapper\n",
    "\n",
    "@timer\n",
    "def do_something(delay):\n",
    "    print('函数do_something开始')\n",
    "    time.sleep(delay)\n",
    "    print(\"函数do_something结束\")"
   ]
  },
  {
   "cell_type": "code",
   "execution_count": null,
   "metadata": {},
   "outputs": [],
   "source": []
  }
 ],
 "metadata": {
  "kernelspec": {
   "display_name": "Python 3",
   "language": "python",
   "name": "python3"
  },
  "language_info": {
   "codemirror_mode": {
    "name": "ipython",
    "version": 3
   },
   "file_extension": ".py",
   "mimetype": "text/x-python",
   "name": "python",
   "nbconvert_exporter": "python",
   "pygments_lexer": "ipython3",
   "version": "3.7.5"
  }
 },
 "nbformat": 4,
 "nbformat_minor": 2
}
